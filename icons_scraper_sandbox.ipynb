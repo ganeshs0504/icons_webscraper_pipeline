{
 "cells": [
  {
   "cell_type": "code",
   "execution_count": 1,
   "id": "4fb7e16a-5592-4273-81dd-570620226778",
   "metadata": {},
   "outputs": [
    {
     "name": "stdout",
     "output_type": "stream",
     "text": [
      "Requirement already satisfied: unidecode in c:\\users\\gvgan\\appdata\\local\\programs\\python\\python312\\lib\\site-packages (1.3.8)\n"
     ]
    },
    {
     "name": "stderr",
     "output_type": "stream",
     "text": [
      "\n",
      "[notice] A new release of pip is available: 24.2 -> 25.0.1\n",
      "[notice] To update, run: python.exe -m pip install --upgrade pip\n"
     ]
    }
   ],
   "source": [
    "!pip install unidecode"
   ]
  },
  {
   "cell_type": "code",
   "execution_count": 2,
   "id": "6c73a317-5957-460b-8659-568cc571f2c0",
   "metadata": {},
   "outputs": [],
   "source": [
    "from selenium import webdriver\n",
    "from selenium.webdriver.common.by import By\n",
    "from selenium.webdriver.support.ui import WebDriverWait\n",
    "from selenium.webdriver.support import expected_conditions as EC\n",
    "from unidecode import unidecode\n",
    "import requests\n",
    "from bs4 import BeautifulSoup\n",
    "import pandas as pd"
   ]
  },
  {
   "cell_type": "code",
   "execution_count": 3,
   "id": "adf762b8-5e72-4fb9-bc4d-811c5b613cbf",
   "metadata": {},
   "outputs": [],
   "source": [
    "driver = webdriver.Chrome()\n",
    "driver.maximize_window()"
   ]
  },
  {
   "cell_type": "code",
   "execution_count": 4,
   "id": "5d740808-bac6-49cb-893e-92608814a8b4",
   "metadata": {},
   "outputs": [],
   "source": [
    "driver.get(\"https://www.icons.com/players/a-k.html\")"
   ]
  },
  {
   "cell_type": "code",
   "execution_count": 5,
   "id": "8d239dda-c8ef-493d-8173-8815faec3052",
   "metadata": {},
   "outputs": [
    {
     "name": "stdout",
     "output_type": "stream",
     "text": [
      "Cookies accepted!\n"
     ]
    }
   ],
   "source": [
    "try:\n",
    "    cookie_button = WebDriverWait(driver, 5).until(\n",
    "        EC.element_to_be_clickable((By.XPATH, \"//button[@title='Accept all cookies']\"))\n",
    "    )\n",
    "    cookie_button.click()\n",
    "    print(\"Cookies accepted!\")\n",
    "\n",
    "except Exception as e:\n",
    "    print(f\"Could not find or click the cookie button: {e}\")"
   ]
  },
  {
   "cell_type": "code",
   "execution_count": 6,
   "id": "ae892375-8c95-4a28-a05d-9f0efb01f3fa",
   "metadata": {},
   "outputs": [],
   "source": [
    "players = driver.find_elements(By.XPATH, \"//div[contains(@class, 'products-grid')]//li/div/a\")"
   ]
  },
  {
   "cell_type": "code",
   "execution_count": 7,
   "id": "fbd7bcfd-87f6-49a2-a49a-7dd4c0b0f507",
   "metadata": {},
   "outputs": [],
   "source": [
    "player_name_link = {}\n",
    "\n",
    "for player in players:\n",
    "    player_name = player.text.strip()\n",
    "    player_url = player.get_attribute(\"href\")\n",
    "\n",
    "    if player_name.split()[-1][0].upper() in 'ABC':\n",
    "        # print(player_name)\n",
    "        player_name_link[player_name] = player_url"
   ]
  },
  {
   "cell_type": "code",
   "execution_count": 8,
   "id": "b7dab5da-2b1b-4a4f-aa1f-54dfc5db4959",
   "metadata": {},
   "outputs": [],
   "source": [
    "for name, url in player_name_link.items():\n",
    "    param_name = unidecode(name).replace(\" \", \"+\")\n",
    "    products_url = f\"{url}?player_names={param_name}\"\n",
    "    player_name_link[name] = products_url"
   ]
  },
  {
   "cell_type": "code",
   "execution_count": 9,
   "id": "64a0f1da-b559-4d70-862b-acf7f96fd11e",
   "metadata": {},
   "outputs": [
    {
     "name": "stdout",
     "output_type": "stream",
     "text": [
      "skipping player Ross Barkley as there are no products to display\n",
      "skipping player Federico Chiesa as there are no products to display\n",
      "skipping player Diego Costa as there are no products to display\n"
     ]
    }
   ],
   "source": [
    "final_links = {}\n",
    "curr_product_count_xpath = \"//p/span[@x-text='productsProgress']\"\n",
    "total_product_count_xpath = \"//p/span[@x-text='productsTotal']\"\n",
    "for name, signed_url in player_name_link.items():\n",
    "    driver.get(signed_url)\n",
    "    try:\n",
    "        curr_item_count = int(driver.find_element(By.XPATH, curr_product_count_xpath).text)\n",
    "        total_item_count = int(driver.find_element(By.XPATH, total_product_count_xpath).text)\n",
    "    except Exception:\n",
    "        print(f\"skipping player {name} as there are no products to display\")\n",
    "        pass\n",
    "\n",
    "    while curr_item_count != total_item_count:\n",
    "        # print(curr_item_count, total_item_count)\n",
    "        driver.find_element(By.XPATH, \"//button[contains(text(), 'Load More Items')]\").click()\n",
    "        \n",
    "        WebDriverWait(driver, 10).until(\n",
    "            lambda d: int(d.find_element(By.XPATH, curr_product_count_xpath).text) != curr_item_count\n",
    "        )\n",
    "        \n",
    "        curr_item_count = int(driver.find_element(By.XPATH, curr_product_count_xpath).text)\n",
    "        total_item_count = int(driver.find_element(By.XPATH, total_product_count_xpath).text)\n",
    "\n",
    "    product_list = driver.find_elements(By.XPATH, \"//div[contains(@class, 'products-grid')]//*[contains(@class, 'product')]/a\")\n",
    "    product_links = []\n",
    "    for product in product_list:\n",
    "        product_links.append(product.get_attribute(\"href\"))\n",
    "    final_links[name] = product_links"
   ]
  },
  {
   "cell_type": "code",
   "execution_count": 10,
   "id": "f4d377f4-d259-45e6-b0b9-e5222311caf4",
   "metadata": {},
   "outputs": [],
   "source": [
    "driver.close()"
   ]
  },
  {
   "cell_type": "code",
   "execution_count": 19,
   "id": "331d4114-9f13-432a-be4c-ee46ac81eee0",
   "metadata": {},
   "outputs": [
    {
     "name": "stdout",
     "output_type": "stream",
     "text": [
      "Looping through products of player: Trent Alexander-Arnold\n",
      "Looping through products of player: Dele Alli\n",
      "Looping through products of player: Michail Antonio\n",
      "Looping through products of player: Pierre-Emerick Aubameyang\n",
      "Looping through products of player: Ross Barkley\n",
      "Looping through products of player: Alisson Becker\n",
      "Looping through products of player: Karim Benzema\n",
      "Looping through products of player: Jarrod Bowen\n",
      "Looping through products of player: Sergio Busquets\n",
      "Looping through products of player: Jack Butland\n",
      "Looping through products of player: Dominic Calvert-Lewin\n",
      "Looping through products of player: Eduardo Camavinga\n",
      "Looping through products of player: Andy Carroll\n",
      "Looping through products of player: Casemiro\n",
      "Looping through products of player: Santi Cazorla\n",
      "Looping through products of player: Nathaniel Chalobah\n",
      "Looping through products of player: Federico Chiesa\n",
      "Looping through products of player: Nathaniel Clyne\n",
      "Looping through products of player: Sebastian Cordova\n",
      "Looping through products of player: Diego Costa\n",
      "Looping through products of player: Philippe Coutinho\n",
      "Looping through products of player: Aaron Cresswell\n",
      "Looping through products of player: Kevin De Bruyne\n",
      "Looping through products of player: Jordi Alba\n"
     ]
    }
   ],
   "source": [
    "final_table = []\n",
    "for name, product_links in final_links.items():\n",
    "    print(\"Looping through products of player:\", name)\n",
    "    for product_link in product_links:\n",
    "        page = requests.get(product_link)\n",
    "        soup = BeautifulSoup(page.text, 'html')\n",
    "    \n",
    "        price = soup.find('meta', itemprop='price')['content']\n",
    "        title = soup.find(\"h1\", class_='page-title').get_text(strip=True)\n",
    "\n",
    "        stock = soup.find('p', title='Availability').get_text(strip=True)\n",
    "        \n",
    "        product_data = {\n",
    "            'player_name': name,\n",
    "            'product_link': product_link,\n",
    "            'product_title': title,\n",
    "            'price': float(price),\n",
    "            'availability': False if stock == 'Out of Stock' else True\n",
    "        }\n",
    "        table = soup.find('table', class_='additional-attributes')\n",
    "        for row in table.find_all('tr'):\n",
    "            for col in row.find('td'):\n",
    "                key = row.find('th').get_text(strip=True)\n",
    "                value = col.get_text(strip=True)\n",
    "                product_data[key] = value\n",
    "        if len(product_data['Signed by'].split(',')) == 1:\n",
    "            final_table.append(product_data)"
   ]
  },
  {
   "cell_type": "code",
   "execution_count": 22,
   "id": "ee18f2ff-6de6-449c-b6f4-14213c3bd089",
   "metadata": {},
   "outputs": [],
   "source": [
    "df = pd.DataFrame(final_table)\n",
    "df['price'] = pd.to_numeric(df['price'], errors='coerce')\n",
    "df.to_csv(\"products.csv\", index=False)"
   ]
  },
  {
   "cell_type": "code",
   "execution_count": 23,
   "id": "6930a267-0ba4-41aa-87e9-c37044d51e26",
   "metadata": {},
   "outputs": [
    {
     "name": "stdout",
     "output_type": "stream",
     "text": [
      "Selected most common product: Presentation type                              Framed\n",
      "Product type(s)                         Signed shirts\n",
      "size                 885mm (H) x 780mm (W) x 30mm (D)\n",
      "player_count                                       17\n",
      "product_count                                      77\n",
      "Name: 13, dtype: object\n"
     ]
    }
   ],
   "source": [
    "df['size'] = df[['Presentation size', 'Photo size']].bfill(axis=1).iloc[:, 0]\n",
    "product_counts = df.groupby(['Presentation type', 'Product type(s)', 'size'])\\\n",
    "    .agg(player_count=('player_name', 'nunique'), product_count=('player_name', 'count'))\\\n",
    "    .reset_index()\n",
    "most_common = product_counts.sort_values(by='player_count', ascending=False).iloc[0]\n",
    "print(\"Selected most common product:\", most_common)\n",
    "filtered_df = df[\n",
    "    (df['Presentation type'] == most_common['Presentation type']) &\n",
    "    (df['Product type(s)'] == most_common['Product type(s)']) &\n",
    "    (df['size'] == most_common['size'])\n",
    "]\n",
    "signature_value = filtered_df.groupby('player_name')['price'].mean().reset_index()\n",
    "signature_value = signature_value.rename(columns={'price': 'signature_worth'})\n",
    "signature_value = signature_value.sort_values(by='signature_worth', ascending=False)\n",
    "signature_value.player_name\n",
    "\n",
    "signature_value.to_csv('signature_worth.csv', index=False)"
   ]
  },
  {
   "cell_type": "code",
   "execution_count": 24,
   "id": "24167146-4a8f-40c6-998d-cbc5ba8e4c3a",
   "metadata": {},
   "outputs": [],
   "source": [
    "portfolio_value = df.groupby('player_name')['price'].sum().reset_index()\n",
    "portfolio_value.to_csv('portfolio_values.csv', index=False)"
   ]
  },
  {
   "cell_type": "code",
   "execution_count": 25,
   "id": "cadd3858-28c5-4992-94e0-8fe147b92040",
   "metadata": {},
   "outputs": [],
   "source": [
    "excluded_players = df[~df['player_name'].isin(signature_value['player_name'])]\n",
    "excluded_players[['player_name']].drop_duplicates().to_csv('excluded_players.csv', index=False)"
   ]
  },
  {
   "cell_type": "code",
   "execution_count": 26,
   "id": "651857e4-584b-46af-acc9-21b0f0584a46",
   "metadata": {},
   "outputs": [],
   "source": [
    "signature_value_on_max_price = df.groupby('player_name')['price'].max().reset_index()\n",
    "signature_value_on_max_price = signature_value_on_max_price.rename(columns={'price': 'signature_worth'})\n",
    "signature_value_on_max_price = signature_value_on_max_price.sort_values(by='signature_worth', ascending=False)\n",
    "signature_value_on_max_price.to_csv('signature_worth_by_max_price.csv', index=False)"
   ]
  },
  {
   "cell_type": "code",
   "execution_count": null,
   "id": "cfbc9e0e-2691-495a-9c2d-b3c316f8bded",
   "metadata": {},
   "outputs": [],
   "source": []
  },
  {
   "cell_type": "code",
   "execution_count": null,
   "id": "08e7c5ea-b5a4-4a53-8530-f64534443e85",
   "metadata": {},
   "outputs": [],
   "source": []
  }
 ],
 "metadata": {
  "kernelspec": {
   "display_name": "Python 3 (ipykernel)",
   "language": "python",
   "name": "python3"
  },
  "language_info": {
   "codemirror_mode": {
    "name": "ipython",
    "version": 3
   },
   "file_extension": ".py",
   "mimetype": "text/x-python",
   "name": "python",
   "nbconvert_exporter": "python",
   "pygments_lexer": "ipython3",
   "version": "3.12.6"
  }
 },
 "nbformat": 4,
 "nbformat_minor": 5
}
